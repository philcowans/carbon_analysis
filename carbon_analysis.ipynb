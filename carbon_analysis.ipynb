{
 "cells": [
  {
   "cell_type": "markdown",
   "id": "491d88de",
   "metadata": {},
   "source": [
    "# Household Carbon Footprint Analysis\n",
    "\n",
    "The aim of this notebook is to make the invisible visible. All carbon emissions result from individual actions, but without clarity as to which actions cause which emissions it's hard to make improvements.\n",
    "\n",
    "## Top Down Analysis\n",
    "\n",
    "We'll start by looking at country-wide data ([Source](https://assets.publishing.service.gov.uk/government/uploads/system/uploads/attachment_data/file/1147372/2022_Provisional_emissions_statistics_report.pdf)). We'll try to use SI units where possible, e.g. kg for volumes of carbon."
   ]
  },
  {
   "cell_type": "code",
   "execution_count": 1,
   "id": "4ee7cc95",
   "metadata": {},
   "outputs": [],
   "source": [
    "import datetime\n",
    "import pandas as pd\n",
    "import matplotlib.pyplot as plt"
   ]
  },
  {
   "cell_type": "code",
   "execution_count": 2,
   "id": "06396f92",
   "metadata": {},
   "outputs": [],
   "source": [
    "uk_emissions_by_sector_2022 = pd.DataFrame({\n",
    "    'Sector': [\n",
    "        'Energy supply',\n",
    "        'Business',\n",
    "        'Transport',\n",
    "        'Public',\n",
    "        'Residential',\n",
    "        'Other'\n",
    "    ],\n",
    "    'Emissions': [\n",
    "        82.2e9,\n",
    "        61.9e9,\n",
    "        112.5e9,\n",
    "        7.6e9,\n",
    "        56.4e9,\n",
    "        10.9e9\n",
    "    ]\n",
    "})"
   ]
  },
  {
   "cell_type": "markdown",
   "id": "644639a7",
   "metadata": {},
   "source": [
    "We're goint to work on a per-household basis. Even this is problematic - it's unlikely that a single person household produces the same emissions as a four person household, but let's stick with it for now."
   ]
  },
  {
   "cell_type": "code",
   "execution_count": 3,
   "id": "29a7c281",
   "metadata": {},
   "outputs": [
    {
     "data": {
      "text/plain": [
       "<Axes: xlabel='Sector'>"
      ]
     },
     "execution_count": 3,
     "metadata": {},
     "output_type": "execute_result"
    },
    {
     "data": {
      "image/png": "[encoded data removed]",
      "text/plain": [
       "<Figure size 640x480 with 1 Axes>"
      ]
     },
     "metadata": {},
     "output_type": "display_data"
    }
   ],
   "source": [
    "num_households = 27.8e6\n",
    "uk_emissions_by_sector_2022['Emissions per Household'] = uk_emissions_by_sector_2022['Emissions'] / num_households\n",
    "uk_emissions_by_sector_2022.plot.bar(x='Sector', y='Emissions per Household')"
   ]
  },
  {
   "cell_type": "markdown",
   "id": "e53fd5c7",
   "metadata": {},
   "source": [
    "We can also calculate the total."
   ]
  },
  {
   "cell_type": "code",
   "execution_count": 4,
   "id": "97164a81",
   "metadata": {},
   "outputs": [
    {
     "data": {
      "text/plain": [
       "11924.460431654677"
      ]
     },
     "execution_count": 4,
     "metadata": {},
     "output_type": "execute_result"
    }
   ],
   "source": [
    "uk_emissions_by_sector_2022['Emissions per Household'].sum()"
   ]
  },
  {
   "cell_type": "markdown",
   "id": "01a1a0a0",
   "metadata": {},
   "source": [
    "We're interested in understanding the composition of my household's carbon emissions. We'll use the scope 1, 2 & 3 categorisation from the GHG Protocol, i.e.\n",
    "\n",
    "* Scope 1: Direct emissions.\n",
    "* Scope 2: Directly purchased electricity, steam, heating and cooling.\n",
    "* Scope 3: Indirect emissions.\n",
    "\n",
    "## Scope 1\n",
    "\n",
    "Scope 1 emissions for my household are natural gas consuption (used only for heating and hot water) and vehicle tailpipe emissions.\n",
    "\n",
    "### Natural gas consumption\n",
    "\n",
    "This is available from meter readings."
   ]
  },
  {
   "cell_type": "code",
   "execution_count": 5,
   "id": "d71a2fd8",
   "metadata": {},
   "outputs": [
    {
     "name": "stderr",
     "output_type": "stream",
     "text": [
      "/tmp/ipykernel_59738/2841756764.py:9: UserWarning: Could not infer format, so each element will be parsed individually, falling back to `dateutil`. To ensure parsing is consistent and as-expected, please specify a format.\n",
      "  energy_data['Unnamed: 0'] = pd.to_datetime(energy_data['Unnamed: 0'])\n"
     ]
    }
   ],
   "source": [
    "energy_data = pd.read_csv('energy.csv')\n",
    "\n",
    "# https://www.carbonindependent.org/15.html\n",
    "# https://electricityproduction.uk/carbon-intensity/?t=10y\n",
    "\n",
    "energy_data['gas_kg_co2_per_year'] = energy_data['Gas (kWh)'] * 0.185 * 12\n",
    "energy_data['electricity_kg_co2_per_year'] = energy_data['Electricity (kWh)'] * 0.250 * 12\n",
    "\n",
    "energy_data['Unnamed: 0'] = pd.to_datetime(energy_data['Unnamed: 0'])\n",
    "energy_data.rename(columns={'Unnamed: 0': 'Month'}, inplace=True)"
   ]
  },
  {
   "cell_type": "markdown",
   "id": "69182fc0",
   "metadata": {},
   "source": [
    "We'll use the date range July 2022 to June 2023 for this analysis, as it's where we have the most complete data. Averaging over the period gives"
   ]
  },
  {
   "cell_type": "code",
   "execution_count": 6,
   "id": "e45a0409",
   "metadata": {},
   "outputs": [
    {
     "data": {
      "text/plain": [
       "1801.7427499999997"
      ]
     },
     "execution_count": 6,
     "metadata": {},
     "output_type": "execute_result"
    }
   ],
   "source": [
    "energy_data[\n",
    "    (energy_data['Month'] >= datetime.datetime(2022,7,1))\n",
    "    & (energy_data['Month'] < datetime.datetime(2023,7,1))\n",
    "]['gas_kg_co2_per_year'].mean()"
   ]
  },
  {
   "cell_type": "markdown",
   "id": "0aaf3104",
   "metadata": {},
   "source": [
    "This is close to the figure derived from national data.\n",
    "\n",
    "### Vehicle emissions\n",
    "\n",
    "This is available from records of fuel purchases, although it requires a bit more processing"
   ]
  },
  {
   "cell_type": "code",
   "execution_count": 7,
   "id": "269d32a4",
   "metadata": {},
   "outputs": [],
   "source": [
    "fuel_data = pd.read_csv('fuel.csv')\n",
    "\n",
    "fuel_data = fuel_data[['Unnamed: 0', 'Volume (l)', 'Milage']].rename(columns={\n",
    "    'Unnamed: 0': 'date',\n",
    "    'Volume (l)': 'litres',\n",
    "    'Milage': 'miles'\n",
    "})\n",
    "fuel_data['date'] = pd.to_datetime(fuel_data['date'])\n",
    "fuel_data['start_date'] = fuel_data['date'].shift()\n",
    "fuel_data['days'] = fuel_data['date'].diff().apply(lambda x: x.days)\n",
    "fuel_data = fuel_data.dropna(subset = ['start_date', 'days'])\n",
    "fuel_data['litres_per_day'] = fuel_data['litres'] / fuel_data['days']\n",
    "\n",
    "#data = fuel_data['litres_per_day']\n",
    "#widths = fuel_data['date'] - fuel_data['start_date']\n",
    "#left = fuel_data['start_date']\n",
    "#plt.bar(left, data, width = widths, \n",
    "#alpha = 0.6, align='edge', edgecolor = 'k', linewidth = 0)\n",
    "\n",
    "def divide_into_month(\n",
    "  x,\n",
    "  month,\n",
    "  start_month,\n",
    "  end_month,\n",
    "  start_days_missed,\n",
    "  end_days_missed,\n",
    "  total_days   \n",
    "):\n",
    "    days_in_month = [31, 28, 31, 30, 31, 30, 31, 31, 30, 31, 30, 31]\n",
    "    days = days_in_month[month % 12]\n",
    "    if month == start_month:\n",
    "        days -= start_days_missed\n",
    "    if month == end_month:\n",
    "        days -= end_days_missed\n",
    "    return days * x / total_days\n",
    "\n",
    "def divide_by_month(x, start_date, end_date):\n",
    "    days_in_month = [31, 28, 31, 30, 31, 30, 31, 31, 30, 31, 30, 31]\n",
    "    start_month = (start_date.year - 2000) * 12 + start_date.month - 1\n",
    "    end_month = (end_date.year - 2000) * 12 + end_date.month - 1\n",
    "    start_days_missed = (start_date.day - 1)\n",
    "    end_days_missed = days_in_month[end_date.month - 1] - end_date.day\n",
    "    total_days = (end_date - start_date).days\n",
    "    return pd.DataFrame([\n",
    "        {\n",
    "            'month': month,\n",
    "            'litres': divide_into_month(\n",
    "                x,\n",
    "                month,\n",
    "                start_month,\n",
    "                end_month,\n",
    "                start_days_missed,\n",
    "                end_days_missed,\n",
    "                total_days\n",
    "            )\n",
    "        }\n",
    "        for month in range(start_month, end_month + 1)\n",
    "    ])\n",
    "\n",
    "fuel_by_month = pd.concat([divide_by_month(row['litres'], row['start_date'], row['date']) for index, row in fuel_data.iterrows()]).groupby('month').agg({\n",
    "    'litres': 'sum'\n",
    "}).reset_index()\n",
    "fuel_by_month['date'] = fuel_by_month['month'].apply(lambda x: datetime.date(x // 12 + 2000, x % 12 + 1, 1))\n",
    "#fuel_by_month.plot.bar(x='date', y='litres')\n",
    "\n",
    "fuel_by_month['kg_co2_per_year'] = fuel_by_month['litres'] * 2.3035 * 12"
   ]
  },
  {
   "cell_type": "code",
   "execution_count": 8,
   "id": "537d9b66",
   "metadata": {},
   "outputs": [
    {
     "data": {
      "text/html": [
       "<div>\n",
       "<style scoped>\n",
       "    .dataframe tbody tr th:only-of-type {\n",
       "        vertical-align: middle;\n",
       "    }\n",
       "\n",
       "    .dataframe tbody tr th {\n",
       "        vertical-align: top;\n",
       "    }\n",
       "\n",
       "    .dataframe thead th {\n",
       "        text-align: right;\n",
       "    }\n",
       "</style>\n",
       "<table border=\"1\" class=\"dataframe\">\n",
       "  <thead>\n",
       "    <tr style=\"text-align: right;\">\n",
       "      <th></th>\n",
       "      <th>month</th>\n",
       "      <th>litres</th>\n",
       "      <th>date</th>\n",
       "      <th>kg_co2_per_year</th>\n",
       "    </tr>\n",
       "  </thead>\n",
       "  <tbody>\n",
       "    <tr>\n",
       "      <th>0</th>\n",
       "      <td>267</td>\n",
       "      <td>12.523529</td>\n",
       "      <td>2022-04-01</td>\n",
       "      <td>346.175400</td>\n",
       "    </tr>\n",
       "    <tr>\n",
       "      <th>1</th>\n",
       "      <td>268</td>\n",
       "      <td>120.356176</td>\n",
       "      <td>2022-05-01</td>\n",
       "      <td>3326.885430</td>\n",
       "    </tr>\n",
       "    <tr>\n",
       "      <th>2</th>\n",
       "      <td>269</td>\n",
       "      <td>112.266833</td>\n",
       "      <td>2022-06-01</td>\n",
       "      <td>3103.279807</td>\n",
       "    </tr>\n",
       "    <tr>\n",
       "      <th>3</th>\n",
       "      <td>270</td>\n",
       "      <td>55.441607</td>\n",
       "      <td>2022-07-01</td>\n",
       "      <td>1532.516905</td>\n",
       "    </tr>\n",
       "    <tr>\n",
       "      <th>4</th>\n",
       "      <td>271</td>\n",
       "      <td>62.518127</td>\n",
       "      <td>2022-08-01</td>\n",
       "      <td>1728.126066</td>\n",
       "    </tr>\n",
       "    <tr>\n",
       "      <th>5</th>\n",
       "      <td>272</td>\n",
       "      <td>82.221544</td>\n",
       "      <td>2022-09-01</td>\n",
       "      <td>2272.767915</td>\n",
       "    </tr>\n",
       "    <tr>\n",
       "      <th>6</th>\n",
       "      <td>273</td>\n",
       "      <td>118.159963</td>\n",
       "      <td>2022-10-01</td>\n",
       "      <td>3266.177710</td>\n",
       "    </tr>\n",
       "    <tr>\n",
       "      <th>7</th>\n",
       "      <td>274</td>\n",
       "      <td>103.006429</td>\n",
       "      <td>2022-11-01</td>\n",
       "      <td>2847.303699</td>\n",
       "    </tr>\n",
       "    <tr>\n",
       "      <th>8</th>\n",
       "      <td>275</td>\n",
       "      <td>106.349881</td>\n",
       "      <td>2022-12-01</td>\n",
       "      <td>2939.723409</td>\n",
       "    </tr>\n",
       "    <tr>\n",
       "      <th>9</th>\n",
       "      <td>276</td>\n",
       "      <td>96.138312</td>\n",
       "      <td>2023-01-01</td>\n",
       "      <td>2657.455212</td>\n",
       "    </tr>\n",
       "    <tr>\n",
       "      <th>10</th>\n",
       "      <td>277</td>\n",
       "      <td>77.498571</td>\n",
       "      <td>2023-02-01</td>\n",
       "      <td>2142.215511</td>\n",
       "    </tr>\n",
       "    <tr>\n",
       "      <th>11</th>\n",
       "      <td>278</td>\n",
       "      <td>101.900810</td>\n",
       "      <td>2023-03-01</td>\n",
       "      <td>2816.742177</td>\n",
       "    </tr>\n",
       "    <tr>\n",
       "      <th>12</th>\n",
       "      <td>279</td>\n",
       "      <td>100.114913</td>\n",
       "      <td>2023-04-01</td>\n",
       "      <td>2767.376422</td>\n",
       "    </tr>\n",
       "    <tr>\n",
       "      <th>13</th>\n",
       "      <td>280</td>\n",
       "      <td>87.134656</td>\n",
       "      <td>2023-05-01</td>\n",
       "      <td>2408.576156</td>\n",
       "    </tr>\n",
       "    <tr>\n",
       "      <th>14</th>\n",
       "      <td>281</td>\n",
       "      <td>74.645217</td>\n",
       "      <td>2023-06-01</td>\n",
       "      <td>2063.343099</td>\n",
       "    </tr>\n",
       "    <tr>\n",
       "      <th>15</th>\n",
       "      <td>282</td>\n",
       "      <td>140.243681</td>\n",
       "      <td>2023-07-01</td>\n",
       "      <td>3876.615839</td>\n",
       "    </tr>\n",
       "    <tr>\n",
       "      <th>16</th>\n",
       "      <td>283</td>\n",
       "      <td>85.365581</td>\n",
       "      <td>2023-08-01</td>\n",
       "      <td>2359.675389</td>\n",
       "    </tr>\n",
       "    <tr>\n",
       "      <th>17</th>\n",
       "      <td>284</td>\n",
       "      <td>80.540233</td>\n",
       "      <td>2023-09-01</td>\n",
       "      <td>2226.293120</td>\n",
       "    </tr>\n",
       "    <tr>\n",
       "      <th>18</th>\n",
       "      <td>285</td>\n",
       "      <td>116.322778</td>\n",
       "      <td>2023-10-01</td>\n",
       "      <td>3215.394223</td>\n",
       "    </tr>\n",
       "    <tr>\n",
       "      <th>19</th>\n",
       "      <td>286</td>\n",
       "      <td>80.596929</td>\n",
       "      <td>2023-11-01</td>\n",
       "      <td>2227.860300</td>\n",
       "    </tr>\n",
       "    <tr>\n",
       "      <th>20</th>\n",
       "      <td>287</td>\n",
       "      <td>67.346500</td>\n",
       "      <td>2023-12-01</td>\n",
       "      <td>1861.591953</td>\n",
       "    </tr>\n",
       "    <tr>\n",
       "      <th>21</th>\n",
       "      <td>288</td>\n",
       "      <td>58.403250</td>\n",
       "      <td>2024-01-01</td>\n",
       "      <td>1614.382636</td>\n",
       "    </tr>\n",
       "    <tr>\n",
       "      <th>22</th>\n",
       "      <td>289</td>\n",
       "      <td>39.485278</td>\n",
       "      <td>2024-02-01</td>\n",
       "      <td>1091.452048</td>\n",
       "    </tr>\n",
       "    <tr>\n",
       "      <th>23</th>\n",
       "      <td>290</td>\n",
       "      <td>43.009722</td>\n",
       "      <td>2024-03-01</td>\n",
       "      <td>1188.874742</td>\n",
       "    </tr>\n",
       "    <tr>\n",
       "      <th>24</th>\n",
       "      <td>291</td>\n",
       "      <td>14.640000</td>\n",
       "      <td>2024-04-01</td>\n",
       "      <td>404.678880</td>\n",
       "    </tr>\n",
       "  </tbody>\n",
       "</table>\n",
       "</div>"
      ],
      "text/plain": [
       "    month      litres        date  kg_co2_per_year\n",
       "0     267   12.523529  2022-04-01       346.175400\n",
       "1     268  120.356176  2022-05-01      3326.885430\n",
       "2     269  112.266833  2022-06-01      3103.279807\n",
       "3     270   55.441607  2022-07-01      1532.516905\n",
       "4     271   62.518127  2022-08-01      1728.126066\n",
       "5     272   82.221544  2022-09-01      2272.767915\n",
       "6     273  118.159963  2022-10-01      3266.177710\n",
       "7     274  103.006429  2022-11-01      2847.303699\n",
       "8     275  106.349881  2022-12-01      2939.723409\n",
       "9     276   96.138312  2023-01-01      2657.455212\n",
       "10    277   77.498571  2023-02-01      2142.215511\n",
       "11    278  101.900810  2023-03-01      2816.742177\n",
       "12    279  100.114913  2023-04-01      2767.376422\n",
       "13    280   87.134656  2023-05-01      2408.576156\n",
       "14    281   74.645217  2023-06-01      2063.343099\n",
       "15    282  140.243681  2023-07-01      3876.615839\n",
       "16    283   85.365581  2023-08-01      2359.675389\n",
       "17    284   80.540233  2023-09-01      2226.293120\n",
       "18    285  116.322778  2023-10-01      3215.394223\n",
       "19    286   80.596929  2023-11-01      2227.860300\n",
       "20    287   67.346500  2023-12-01      1861.591953\n",
       "21    288   58.403250  2024-01-01      1614.382636\n",
       "22    289   39.485278  2024-02-01      1091.452048\n",
       "23    290   43.009722  2024-03-01      1188.874742\n",
       "24    291   14.640000  2024-04-01       404.678880"
      ]
     },
     "execution_count": 8,
     "metadata": {},
     "output_type": "execute_result"
    }
   ],
   "source": [
    "fuel_by_month"
   ]
  },
  {
   "cell_type": "markdown",
   "id": "8d94262a",
   "metadata": {},
   "source": [
    "We can now calculate a total for the period being analysed."
   ]
  },
  {
   "cell_type": "code",
   "execution_count": 9,
   "id": "8cfb753b",
   "metadata": {},
   "outputs": [
    {
     "data": {
      "text/plain": [
       "2453.52702334167"
      ]
     },
     "execution_count": 9,
     "metadata": {},
     "output_type": "execute_result"
    }
   ],
   "source": [
    "fuel_by_month[\n",
    "    (fuel_by_month['date'] >= datetime.date(2022,7,1))\n",
    "    & (fuel_by_month['date'] < datetime.date(2023,7,1))\n",
    "]['kg_co2_per_year'].mean()"
   ]
  },
  {
   "cell_type": "markdown",
   "id": "b131d6a9",
   "metadata": {},
   "source": [
    "This is substantially below the 'transport' category in the national data, but domestic vehicle use doesn't account for the whole of the category.\n",
    "\n",
    "## Scope 2\n",
    "### Electricity consuption\n",
    "\n",
    "This was already calculated above."
   ]
  },
  {
   "cell_type": "code",
   "execution_count": 10,
   "id": "1df21fb8",
   "metadata": {},
   "outputs": [
    {
     "data": {
      "text/plain": [
       "886.475"
      ]
     },
     "execution_count": 10,
     "metadata": {},
     "output_type": "execute_result"
    }
   ],
   "source": [
    "energy_data[\n",
    "    (energy_data['Month'] >= datetime.datetime(2022,7,1))\n",
    "    & (energy_data['Month'] < datetime.datetime(2023,7,1))\n",
    "]['electricity_kg_co2_per_year'].mean()"
   ]
  },
  {
   "cell_type": "markdown",
   "id": "9666916c",
   "metadata": {},
   "source": [
    "This is substantially lower than the 'energy supply' category in the national data, which we'll investigate later.\n",
    "\n",
    "## Scope 3\n",
    "\n",
    "We'll use national averages for now, but will first need to estimate double counting so it can be removed. Ntural gas consuption replaces the 'residential' category in the national data.\n",
    "\n",
    "Electricity data is available [here](https://www.gov.uk/government/statistics/energy-consumption-in-the-uk-2022). The fraction of electricity consumed domestically is given by"
   ]
  },
  {
   "cell_type": "code",
   "execution_count": 11,
   "id": "e6c3e58f",
   "metadata": {},
   "outputs": [
    {
     "data": {
      "text/plain": [
       "0.38291898929893803"
      ]
     },
     "execution_count": 11,
     "metadata": {},
     "output_type": "execute_result"
    }
   ],
   "source": [
    "9411/24577"
   ]
  },
  {
   "cell_type": "markdown",
   "id": "b1820a9f",
   "metadata": {},
   "source": [
    "This corresponds to per household emissions of"
   ]
  },
  {
   "cell_type": "code",
   "execution_count": 12,
   "id": "3b271429",
   "metadata": {},
   "outputs": [
    {
     "data": {
      "text/plain": [
       "1132.2280906608887"
      ]
     },
     "execution_count": 12,
     "metadata": {},
     "output_type": "execute_result"
    }
   ],
   "source": [
    "(82.2e9 * 9411)/(24577 * num_households)"
   ]
  },
  {
   "cell_type": "markdown",
   "id": "604d7cce",
   "metadata": {},
   "source": [
    "and residual non-domestic emissions of"
   ]
  },
  {
   "cell_type": "code",
   "execution_count": 13,
   "id": "ad9cee0a",
   "metadata": {},
   "outputs": [
    {
     "data": {
      "text/plain": [
       "2956.8345323603266"
      ]
     },
     "execution_count": 13,
     "metadata": {},
     "output_type": "execute_result"
    }
   ],
   "source": [
    "(82.2e9 * 1 - (9411/24577)) / num_households"
   ]
  },
  {
   "cell_type": "markdown",
   "id": "1efd76f3",
   "metadata": {},
   "source": [
    "Vehicle emissions are more complex. [This data](https://www.gov.uk/government/statistics/transport-and-environment-statistics-2022/transport-and-environment-statistics-2022) gives the percentage of emissions by cars and taxis as"
   ]
  },
  {
   "cell_type": "code",
   "execution_count": 14,
   "id": "ab4085e0",
   "metadata": {},
   "outputs": [
    {
     "data": {
      "text/plain": [
       "0.5252525252525253"
      ]
     },
     "execution_count": 14,
     "metadata": {},
     "output_type": "execute_result"
    }
   ],
   "source": [
    "52 / (52 + 19 + 16 + 5 + 2 + 5)"
   ]
  },
  {
   "cell_type": "markdown",
   "id": "da6a87df",
   "metadata": {},
   "source": [
    "[This data](https://www.gov.uk/government/statistics/transport-statistics-great-britain-2022/transport-statistics-great-britain-2022-domestic-travel) says that about 15% of trips are for commuting or business. Domestic car usage therefore accounts for"
   ]
  },
  {
   "cell_type": "code",
   "execution_count": 15,
   "id": "3e2ed563",
   "metadata": {},
   "outputs": [
    {
     "data": {
      "text/plain": [
       "1806.7364290385874"
      ]
     },
     "execution_count": 15,
     "metadata": {},
     "output_type": "execute_result"
    }
   ],
   "source": [
    "(112.5e9 * (52 / (52 + 19 + 16 + 5 + 2 + 5)) * (1-0.15)) / num_households"
   ]
  },
  {
   "cell_type": "markdown",
   "id": "5da3d9ba",
   "metadata": {},
   "source": [
    "Residual transport emissions are"
   ]
  },
  {
   "cell_type": "code",
   "execution_count": 16,
   "id": "50453be4",
   "metadata": {},
   "outputs": [
    {
     "data": {
      "text/plain": [
       "2240.0261608894702"
      ]
     },
     "execution_count": 16,
     "metadata": {},
     "output_type": "execute_result"
    }
   ],
   "source": [
    "(112.5e9 * (1 - (52 / (52 + 19 + 16 + 5 + 2 + 5)) * (1-0.15))) / num_households"
   ]
  },
  {
   "cell_type": "markdown",
   "id": "27c79d3d",
   "metadata": {},
   "source": [
    "Total scope 3 emissions are therefore"
   ]
  },
  {
   "cell_type": "code",
   "execution_count": 17,
   "id": "b3822023",
   "metadata": {},
   "outputs": [
    {
     "data": {
      "text/plain": [
       "17288.94702418505"
      ]
     },
     "execution_count": 17,
     "metadata": {},
     "output_type": "execute_result"
    }
   ],
   "source": [
    "(2956.8345323603266 # Residual energy\n",
    "+ 61.9e9 / num_households # Business\n",
    "+ 2240.0261608894702 # Residual transport\n",
    "+ 7.6e9 / num_households # Public\n",
    "+ 0 # Residential\n",
    "+ 10.9e9 / num_households # Other\n",
    "+ 1900 + 2400 + 2600 + 2300) # Flights (Barcelona, Naples, Malaga, Miami)"
   ]
  },
  {
   "cell_type": "code",
   "execution_count": 18,
   "id": "11aa6ba6",
   "metadata": {},
   "outputs": [
    {
     "data": {
      "text/plain": [
       "2226.6187050359713"
      ]
     },
     "execution_count": 18,
     "metadata": {},
     "output_type": "execute_result"
    }
   ],
   "source": [
    "61.9e9 / num_households"
   ]
  },
  {
   "cell_type": "code",
   "execution_count": 19,
   "id": "d5094d7f",
   "metadata": {},
   "outputs": [
    {
     "data": {
      "text/plain": [
       "273.38129496402877"
      ]
     },
     "execution_count": 19,
     "metadata": {},
     "output_type": "execute_result"
    }
   ],
   "source": [
    "7.6e9 / num_households"
   ]
  },
  {
   "cell_type": "code",
   "execution_count": 20,
   "id": "7986b1d6",
   "metadata": {},
   "outputs": [
    {
     "data": {
      "text/plain": [
       "392.0863309352518"
      ]
     },
     "execution_count": 20,
     "metadata": {},
     "output_type": "execute_result"
    }
   ],
   "source": [
    "10.9e9 / num_households"
   ]
  },
  {
   "cell_type": "markdown",
   "id": "cbc6925a",
   "metadata": {},
   "source": [
    "## Summary"
   ]
  },
  {
   "cell_type": "code",
   "execution_count": 21,
   "id": "1ab57267",
   "metadata": {},
   "outputs": [
    {
     "data": {
      "text/plain": [
       "<Axes: xlabel='Scope'>"
      ]
     },
     "execution_count": 21,
     "metadata": {},
     "output_type": "execute_result"
    },
    {
     "data": {
      "image/png": "[encoded data removed]",
      "text/plain": [
       "<Figure size 640x480 with 1 Axes>"
      ]
     },
     "metadata": {},
     "output_type": "display_data"
    }
   ],
   "source": [
    "pd.DataFrame({\n",
    "    'Scope': ['Scope 1', 'Scope 2', 'Scope 3'],\n",
    "    'Emissions': [1801.7427499999997 + 2453.52702334167, 886.475,  17288.94702418505],\n",
    "}).plot.bar(x='Scope', y='Emissions')"
   ]
  },
  {
   "cell_type": "code",
   "execution_count": 22,
   "id": "3f983c3c",
   "metadata": {},
   "outputs": [
    {
     "data": {
      "text/plain": [
       "7548.2"
      ]
     },
     "execution_count": 22,
     "metadata": {},
     "output_type": "execute_result"
    }
   ],
   "source": [
    "5.17*4*365 # food - https://www.wwf.org.uk/sites/default/files/2018-03/Food_in_a_warming_world_report.PDF"
   ]
  },
  {
   "cell_type": "code",
   "execution_count": 23,
   "id": "545b565b",
   "metadata": {},
   "outputs": [
    {
     "data": {
      "text/plain": [
       "<matplotlib.lines.Line2D at 0x7d0605e50990>"
      ]
     },
     "execution_count": 23,
     "metadata": {},
     "output_type": "execute_result"
    },
    {
     "data": {
      "image/png": "[encoded data removed]",
      "text/plain": [
       "<Figure size 640x480 with 1 Axes>"
      ]
     },
     "metadata": {},
     "output_type": "display_data"
    }
   ],
   "source": [
    "ax = fuel_by_month.plot.bar(x='date', y='kg_co2_per_year')\n",
    "ax.axhline(4600*4)"
   ]
  },
  {
   "cell_type": "code",
   "execution_count": 24,
   "id": "f4d5d32f",
   "metadata": {},
   "outputs": [],
   "source": [
    "fuel_data['grammes_co2_per_day'] = fuel_data['litres_per_day'] * 2303.5"
   ]
  },
  {
   "cell_type": "code",
   "execution_count": 25,
   "id": "468dd5d0",
   "metadata": {},
   "outputs": [
    {
     "data": {
      "text/plain": [
       "1825000"
      ]
     },
     "execution_count": 25,
     "metadata": {},
     "output_type": "execute_result"
    }
   ],
   "source": [
    "5000 * 365"
   ]
  },
  {
   "cell_type": "code",
   "execution_count": 26,
   "id": "efb58bbf",
   "metadata": {},
   "outputs": [
    {
     "data": {
      "text/plain": [
       "1227.4680455923979"
      ]
     },
     "execution_count": 26,
     "metadata": {},
     "output_type": "execute_result"
    }
   ],
   "source": [
    "litres_per_kilometer = fuel_data.dropna()['litres'].sum() / (fuel_data.dropna()['miles'].sum() * 1.609)\n",
    "kilometers_for_nursery = 4.5 * 8 * 52\n",
    "litres_for_nursery_per_day = kilometers_for_nursery * litres_per_kilometer / 365\n",
    "grammes_co2_for_nursery_per_day = litres_for_nursery_per_day * 2303.5\n",
    "grammes_co2_for_nursery_per_day"
   ]
  },
  {
   "cell_type": "code",
   "execution_count": 27,
   "id": "07494c97",
   "metadata": {},
   "outputs": [
    {
     "data": {
      "text/plain": [
       "823.4264805849002"
      ]
     },
     "execution_count": 27,
     "metadata": {},
     "output_type": "execute_result"
    }
   ],
   "source": [
    "kilometers_for_gym = 4.83 * 5 * 52\n",
    "litres_for_gym_per_day = kilometers_for_gym * litres_per_kilometer / 365\n",
    "grammes_co2_for_gym_per_day = litres_for_gym_per_day * 2303.5\n",
    "grammes_co2_for_gym_per_day"
   ]
  },
  {
   "cell_type": "code",
   "execution_count": 28,
   "id": "58fc45ab",
   "metadata": {},
   "outputs": [
    {
     "data": {
      "text/plain": [
       "<matplotlib.lines.Line2D at 0x7d0605abfe10>"
      ]
     },
     "execution_count": 28,
     "metadata": {},
     "output_type": "execute_result"
    },
    {
     "data": {
      "image/png": "[encoded data removed]",
      "text/plain": [
       "<Figure size 640x480 with 1 Axes>"
      ]
     },
     "metadata": {},
     "output_type": "display_data"
    }
   ],
   "source": [
    "data = fuel_data['grammes_co2_per_day']\n",
    "widths = fuel_data['date'] - fuel_data['start_date']\n",
    "left = fuel_data['start_date']\n",
    "ax = plt.bar(left, data, width = widths, \n",
    "alpha = 0.6, align='edge', edgecolor = 'k', linewidth = 0)\n",
    "plt.axhline(grammes_co2_for_nursery_per_day)\n",
    "plt.axhline(grammes_co2_for_nursery_per_day + grammes_co2_for_gym_per_day)"
   ]
  },
  {
   "cell_type": "code",
   "execution_count": 29,
   "id": "ffb1f603",
   "metadata": {},
   "outputs": [
    {
     "data": {
      "text/plain": [
       "748576.5020547137"
      ]
     },
     "execution_count": 29,
     "metadata": {},
     "output_type": "execute_result"
    }
   ],
   "source": [
    "(grammes_co2_for_nursery_per_day + grammes_co2_for_gym_per_day) * 365"
   ]
  },
  {
   "cell_type": "code",
   "execution_count": 30,
   "id": "0bca5174",
   "metadata": {},
   "outputs": [
    {
     "data": {
      "text/plain": [
       "0.03"
      ]
     },
     "execution_count": 30,
     "metadata": {},
     "output_type": "execute_result"
    }
   ],
   "source": [
    "300 / 10000"
   ]
  },
  {
   "cell_type": "code",
   "execution_count": 31,
   "id": "8d803d8e",
   "metadata": {},
   "outputs": [
    {
     "data": {
      "text/plain": [
       "453.0175774951339"
      ]
     },
     "execution_count": 31,
     "metadata": {},
     "output_type": "execute_result"
    }
   ],
   "source": [
    "26.5 * litres_per_kilometer * 2303.5 / 14"
   ]
  },
  {
   "cell_type": "markdown",
   "id": "7c54e06e",
   "metadata": {},
   "source": [
    "## Gas and Electricity"
   ]
  },
  {
   "cell_type": "code",
   "execution_count": 32,
   "id": "f56c0851",
   "metadata": {},
   "outputs": [],
   "source": [
    "fuel_by_month['date'] = pd.to_datetime(fuel_by_month['date'])"
   ]
  },
  {
   "cell_type": "code",
   "execution_count": 33,
   "id": "bc566d5f-afc3-482e-9068-2cc86c8a1d8e",
   "metadata": {},
   "outputs": [
    {
     "data": {
      "text/html": [
       "<div>\n",
       "<style scoped>\n",
       "    .dataframe tbody tr th:only-of-type {\n",
       "        vertical-align: middle;\n",
       "    }\n",
       "\n",
       "    .dataframe tbody tr th {\n",
       "        vertical-align: top;\n",
       "    }\n",
       "\n",
       "    .dataframe thead th {\n",
       "        text-align: right;\n",
       "    }\n",
       "</style>\n",
       "<table border=\"1\" class=\"dataframe\">\n",
       "  <thead>\n",
       "    <tr style=\"text-align: right;\">\n",
       "      <th></th>\n",
       "      <th>month</th>\n",
       "      <th>litres</th>\n",
       "      <th>date</th>\n",
       "      <th>kg_co2_per_year</th>\n",
       "    </tr>\n",
       "  </thead>\n",
       "  <tbody>\n",
       "    <tr>\n",
       "      <th>0</th>\n",
       "      <td>267</td>\n",
       "      <td>12.523529</td>\n",
       "      <td>2022-04-01</td>\n",
       "      <td>346.175400</td>\n",
       "    </tr>\n",
       "    <tr>\n",
       "      <th>1</th>\n",
       "      <td>268</td>\n",
       "      <td>120.356176</td>\n",
       "      <td>2022-05-01</td>\n",
       "      <td>3326.885430</td>\n",
       "    </tr>\n",
       "    <tr>\n",
       "      <th>2</th>\n",
       "      <td>269</td>\n",
       "      <td>112.266833</td>\n",
       "      <td>2022-06-01</td>\n",
       "      <td>3103.279807</td>\n",
       "    </tr>\n",
       "    <tr>\n",
       "      <th>3</th>\n",
       "      <td>270</td>\n",
       "      <td>55.441607</td>\n",
       "      <td>2022-07-01</td>\n",
       "      <td>1532.516905</td>\n",
       "    </tr>\n",
       "    <tr>\n",
       "      <th>4</th>\n",
       "      <td>271</td>\n",
       "      <td>62.518127</td>\n",
       "      <td>2022-08-01</td>\n",
       "      <td>1728.126066</td>\n",
       "    </tr>\n",
       "    <tr>\n",
       "      <th>5</th>\n",
       "      <td>272</td>\n",
       "      <td>82.221544</td>\n",
       "      <td>2022-09-01</td>\n",
       "      <td>2272.767915</td>\n",
       "    </tr>\n",
       "    <tr>\n",
       "      <th>6</th>\n",
       "      <td>273</td>\n",
       "      <td>118.159963</td>\n",
       "      <td>2022-10-01</td>\n",
       "      <td>3266.177710</td>\n",
       "    </tr>\n",
       "    <tr>\n",
       "      <th>7</th>\n",
       "      <td>274</td>\n",
       "      <td>103.006429</td>\n",
       "      <td>2022-11-01</td>\n",
       "      <td>2847.303699</td>\n",
       "    </tr>\n",
       "    <tr>\n",
       "      <th>8</th>\n",
       "      <td>275</td>\n",
       "      <td>106.349881</td>\n",
       "      <td>2022-12-01</td>\n",
       "      <td>2939.723409</td>\n",
       "    </tr>\n",
       "    <tr>\n",
       "      <th>9</th>\n",
       "      <td>276</td>\n",
       "      <td>96.138312</td>\n",
       "      <td>2023-01-01</td>\n",
       "      <td>2657.455212</td>\n",
       "    </tr>\n",
       "    <tr>\n",
       "      <th>10</th>\n",
       "      <td>277</td>\n",
       "      <td>77.498571</td>\n",
       "      <td>2023-02-01</td>\n",
       "      <td>2142.215511</td>\n",
       "    </tr>\n",
       "    <tr>\n",
       "      <th>11</th>\n",
       "      <td>278</td>\n",
       "      <td>101.900810</td>\n",
       "      <td>2023-03-01</td>\n",
       "      <td>2816.742177</td>\n",
       "    </tr>\n",
       "    <tr>\n",
       "      <th>12</th>\n",
       "      <td>279</td>\n",
       "      <td>100.114913</td>\n",
       "      <td>2023-04-01</td>\n",
       "      <td>2767.376422</td>\n",
       "    </tr>\n",
       "    <tr>\n",
       "      <th>13</th>\n",
       "      <td>280</td>\n",
       "      <td>87.134656</td>\n",
       "      <td>2023-05-01</td>\n",
       "      <td>2408.576156</td>\n",
       "    </tr>\n",
       "    <tr>\n",
       "      <th>14</th>\n",
       "      <td>281</td>\n",
       "      <td>74.645217</td>\n",
       "      <td>2023-06-01</td>\n",
       "      <td>2063.343099</td>\n",
       "    </tr>\n",
       "    <tr>\n",
       "      <th>15</th>\n",
       "      <td>282</td>\n",
       "      <td>140.243681</td>\n",
       "      <td>2023-07-01</td>\n",
       "      <td>3876.615839</td>\n",
       "    </tr>\n",
       "    <tr>\n",
       "      <th>16</th>\n",
       "      <td>283</td>\n",
       "      <td>85.365581</td>\n",
       "      <td>2023-08-01</td>\n",
       "      <td>2359.675389</td>\n",
       "    </tr>\n",
       "    <tr>\n",
       "      <th>17</th>\n",
       "      <td>284</td>\n",
       "      <td>80.540233</td>\n",
       "      <td>2023-09-01</td>\n",
       "      <td>2226.293120</td>\n",
       "    </tr>\n",
       "    <tr>\n",
       "      <th>18</th>\n",
       "      <td>285</td>\n",
       "      <td>116.322778</td>\n",
       "      <td>2023-10-01</td>\n",
       "      <td>3215.394223</td>\n",
       "    </tr>\n",
       "    <tr>\n",
       "      <th>19</th>\n",
       "      <td>286</td>\n",
       "      <td>80.596929</td>\n",
       "      <td>2023-11-01</td>\n",
       "      <td>2227.860300</td>\n",
       "    </tr>\n",
       "    <tr>\n",
       "      <th>20</th>\n",
       "      <td>287</td>\n",
       "      <td>67.346500</td>\n",
       "      <td>2023-12-01</td>\n",
       "      <td>1861.591953</td>\n",
       "    </tr>\n",
       "    <tr>\n",
       "      <th>21</th>\n",
       "      <td>288</td>\n",
       "      <td>58.403250</td>\n",
       "      <td>2024-01-01</td>\n",
       "      <td>1614.382636</td>\n",
       "    </tr>\n",
       "    <tr>\n",
       "      <th>22</th>\n",
       "      <td>289</td>\n",
       "      <td>39.485278</td>\n",
       "      <td>2024-02-01</td>\n",
       "      <td>1091.452048</td>\n",
       "    </tr>\n",
       "    <tr>\n",
       "      <th>23</th>\n",
       "      <td>290</td>\n",
       "      <td>43.009722</td>\n",
       "      <td>2024-03-01</td>\n",
       "      <td>1188.874742</td>\n",
       "    </tr>\n",
       "    <tr>\n",
       "      <th>24</th>\n",
       "      <td>291</td>\n",
       "      <td>14.640000</td>\n",
       "      <td>2024-04-01</td>\n",
       "      <td>404.678880</td>\n",
       "    </tr>\n",
       "  </tbody>\n",
       "</table>\n",
       "</div>"
      ],
      "text/plain": [
       "    month      litres       date  kg_co2_per_year\n",
       "0     267   12.523529 2022-04-01       346.175400\n",
       "1     268  120.356176 2022-05-01      3326.885430\n",
       "2     269  112.266833 2022-06-01      3103.279807\n",
       "3     270   55.441607 2022-07-01      1532.516905\n",
       "4     271   62.518127 2022-08-01      1728.126066\n",
       "5     272   82.221544 2022-09-01      2272.767915\n",
       "6     273  118.159963 2022-10-01      3266.177710\n",
       "7     274  103.006429 2022-11-01      2847.303699\n",
       "8     275  106.349881 2022-12-01      2939.723409\n",
       "9     276   96.138312 2023-01-01      2657.455212\n",
       "10    277   77.498571 2023-02-01      2142.215511\n",
       "11    278  101.900810 2023-03-01      2816.742177\n",
       "12    279  100.114913 2023-04-01      2767.376422\n",
       "13    280   87.134656 2023-05-01      2408.576156\n",
       "14    281   74.645217 2023-06-01      2063.343099\n",
       "15    282  140.243681 2023-07-01      3876.615839\n",
       "16    283   85.365581 2023-08-01      2359.675389\n",
       "17    284   80.540233 2023-09-01      2226.293120\n",
       "18    285  116.322778 2023-10-01      3215.394223\n",
       "19    286   80.596929 2023-11-01      2227.860300\n",
       "20    287   67.346500 2023-12-01      1861.591953\n",
       "21    288   58.403250 2024-01-01      1614.382636\n",
       "22    289   39.485278 2024-02-01      1091.452048\n",
       "23    290   43.009722 2024-03-01      1188.874742\n",
       "24    291   14.640000 2024-04-01       404.678880"
      ]
     },
     "execution_count": 33,
     "metadata": {},
     "output_type": "execute_result"
    }
   ],
   "source": [
    "fuel_by_month"
   ]
  },
  {
   "cell_type": "code",
   "execution_count": 34,
   "id": "2f2cbe8a",
   "metadata": {},
   "outputs": [],
   "source": [
    "flight_lhr_ebb = 9100\n",
    "flight_stn_bcn = 2700\n",
    "flight_stn_nap = 2400\n",
    "flight_stn_agp = 2600\n",
    "flight_lhr_mia = 2300\n",
    "flight_lgw_tfs = 4000\n",
    "fuel_by_month['Flights'] = [flight_lhr_ebb + flight_stn_bcn + flight_stn_nap] * 9 + [flight_stn_agp + flight_lhr_mia] * 12 + [flight_lgw_tfs] * 4"
   ]
  },
  {
   "cell_type": "code",
   "execution_count": 35,
   "id": "0cc7dfa0",
   "metadata": {},
   "outputs": [],
   "source": [
    "combined = fuel_by_month.merge(energy_data, left_on='date', right_on='Month').rename(columns={\n",
    "    'kg_co2_per_year': 'Vehicle fuel',\n",
    "    'gas_kg_co2_per_year': 'Domestic natural gas (heating and hot water)',\n",
    "    'electricity_kg_co2_per_year': 'Domestic electricity',\n",
    "})"
   ]
  },
  {
   "cell_type": "code",
   "execution_count": 36,
   "id": "dc750e9e",
   "metadata": {},
   "outputs": [
    {
     "data": {
      "text/html": [
       "<div>\n",
       "<style scoped>\n",
       "    .dataframe tbody tr th:only-of-type {\n",
       "        vertical-align: middle;\n",
       "    }\n",
       "\n",
       "    .dataframe tbody tr th {\n",
       "        vertical-align: top;\n",
       "    }\n",
       "\n",
       "    .dataframe thead th {\n",
       "        text-align: right;\n",
       "    }\n",
       "</style>\n",
       "<table border=\"1\" class=\"dataframe\">\n",
       "  <thead>\n",
       "    <tr style=\"text-align: right;\">\n",
       "      <th></th>\n",
       "      <th>month</th>\n",
       "      <th>litres</th>\n",
       "      <th>date</th>\n",
       "      <th>Vehicle fuel</th>\n",
       "      <th>Flights</th>\n",
       "      <th>Month</th>\n",
       "      <th>Gas (kWh)</th>\n",
       "      <th>Electricity (kWh)</th>\n",
       "      <th>Domestic natural gas (heating and hot water)</th>\n",
       "      <th>Domestic electricity</th>\n",
       "    </tr>\n",
       "  </thead>\n",
       "  <tbody>\n",
       "    <tr>\n",
       "      <th>0</th>\n",
       "      <td>267</td>\n",
       "      <td>12.523529</td>\n",
       "      <td>2022-04-01</td>\n",
       "      <td>346.175400</td>\n",
       "      <td>14200</td>\n",
       "      <td>2022-04-01</td>\n",
       "      <td>412.96</td>\n",
       "      <td>202.2</td>\n",
       "      <td>916.7712</td>\n",
       "      <td>606.6</td>\n",
       "    </tr>\n",
       "    <tr>\n",
       "      <th>1</th>\n",
       "      <td>268</td>\n",
       "      <td>120.356176</td>\n",
       "      <td>2022-05-01</td>\n",
       "      <td>3326.885430</td>\n",
       "      <td>14200</td>\n",
       "      <td>2022-05-01</td>\n",
       "      <td>322.92</td>\n",
       "      <td>326.4</td>\n",
       "      <td>716.8824</td>\n",
       "      <td>979.2</td>\n",
       "    </tr>\n",
       "    <tr>\n",
       "      <th>2</th>\n",
       "      <td>269</td>\n",
       "      <td>112.266833</td>\n",
       "      <td>2022-06-01</td>\n",
       "      <td>3103.279807</td>\n",
       "      <td>14200</td>\n",
       "      <td>2022-06-01</td>\n",
       "      <td>260.65</td>\n",
       "      <td>316.6</td>\n",
       "      <td>578.6430</td>\n",
       "      <td>949.8</td>\n",
       "    </tr>\n",
       "    <tr>\n",
       "      <th>3</th>\n",
       "      <td>270</td>\n",
       "      <td>55.441607</td>\n",
       "      <td>2022-07-01</td>\n",
       "      <td>1532.516905</td>\n",
       "      <td>14200</td>\n",
       "      <td>2022-07-01</td>\n",
       "      <td>199.40</td>\n",
       "      <td>290.8</td>\n",
       "      <td>442.6680</td>\n",
       "      <td>872.4</td>\n",
       "    </tr>\n",
       "    <tr>\n",
       "      <th>4</th>\n",
       "      <td>271</td>\n",
       "      <td>62.518127</td>\n",
       "      <td>2022-08-01</td>\n",
       "      <td>1728.126066</td>\n",
       "      <td>14200</td>\n",
       "      <td>2022-08-01</td>\n",
       "      <td>232.90</td>\n",
       "      <td>256.5</td>\n",
       "      <td>517.0380</td>\n",
       "      <td>769.5</td>\n",
       "    </tr>\n",
       "    <tr>\n",
       "      <th>5</th>\n",
       "      <td>272</td>\n",
       "      <td>82.221544</td>\n",
       "      <td>2022-09-01</td>\n",
       "      <td>2272.767915</td>\n",
       "      <td>14200</td>\n",
       "      <td>2022-09-01</td>\n",
       "      <td>297.76</td>\n",
       "      <td>303.3</td>\n",
       "      <td>661.0272</td>\n",
       "      <td>909.9</td>\n",
       "    </tr>\n",
       "    <tr>\n",
       "      <th>6</th>\n",
       "      <td>273</td>\n",
       "      <td>118.159963</td>\n",
       "      <td>2022-10-01</td>\n",
       "      <td>3266.177710</td>\n",
       "      <td>14200</td>\n",
       "      <td>2022-10-01</td>\n",
       "      <td>283.22</td>\n",
       "      <td>308.1</td>\n",
       "      <td>628.7484</td>\n",
       "      <td>924.3</td>\n",
       "    </tr>\n",
       "    <tr>\n",
       "      <th>7</th>\n",
       "      <td>274</td>\n",
       "      <td>103.006429</td>\n",
       "      <td>2022-11-01</td>\n",
       "      <td>2847.303699</td>\n",
       "      <td>14200</td>\n",
       "      <td>2022-11-01</td>\n",
       "      <td>934.71</td>\n",
       "      <td>305.1</td>\n",
       "      <td>2075.0562</td>\n",
       "      <td>915.3</td>\n",
       "    </tr>\n",
       "    <tr>\n",
       "      <th>8</th>\n",
       "      <td>275</td>\n",
       "      <td>106.349881</td>\n",
       "      <td>2022-12-01</td>\n",
       "      <td>2939.723409</td>\n",
       "      <td>14200</td>\n",
       "      <td>2022-12-01</td>\n",
       "      <td>1954.03</td>\n",
       "      <td>322.0</td>\n",
       "      <td>4337.9466</td>\n",
       "      <td>966.0</td>\n",
       "    </tr>\n",
       "    <tr>\n",
       "      <th>9</th>\n",
       "      <td>276</td>\n",
       "      <td>96.138312</td>\n",
       "      <td>2023-01-01</td>\n",
       "      <td>2657.455212</td>\n",
       "      <td>4900</td>\n",
       "      <td>2023-01-01</td>\n",
       "      <td>1716.18</td>\n",
       "      <td>326.3</td>\n",
       "      <td>3809.9196</td>\n",
       "      <td>978.9</td>\n",
       "    </tr>\n",
       "    <tr>\n",
       "      <th>10</th>\n",
       "      <td>277</td>\n",
       "      <td>77.498571</td>\n",
       "      <td>2023-02-01</td>\n",
       "      <td>2142.215511</td>\n",
       "      <td>4900</td>\n",
       "      <td>2023-02-01</td>\n",
       "      <td>1291.29</td>\n",
       "      <td>313.3</td>\n",
       "      <td>2866.6638</td>\n",
       "      <td>939.9</td>\n",
       "    </tr>\n",
       "    <tr>\n",
       "      <th>11</th>\n",
       "      <td>278</td>\n",
       "      <td>101.900810</td>\n",
       "      <td>2023-03-01</td>\n",
       "      <td>2816.742177</td>\n",
       "      <td>4900</td>\n",
       "      <td>2023-03-01</td>\n",
       "      <td>1345.67</td>\n",
       "      <td>313.6</td>\n",
       "      <td>2987.3874</td>\n",
       "      <td>940.8</td>\n",
       "    </tr>\n",
       "    <tr>\n",
       "      <th>12</th>\n",
       "      <td>279</td>\n",
       "      <td>100.114913</td>\n",
       "      <td>2023-04-01</td>\n",
       "      <td>2767.376422</td>\n",
       "      <td>4900</td>\n",
       "      <td>2023-04-01</td>\n",
       "      <td>881.80</td>\n",
       "      <td>284.8</td>\n",
       "      <td>1957.5960</td>\n",
       "      <td>854.4</td>\n",
       "    </tr>\n",
       "    <tr>\n",
       "      <th>13</th>\n",
       "      <td>280</td>\n",
       "      <td>87.134656</td>\n",
       "      <td>2023-05-01</td>\n",
       "      <td>2408.576156</td>\n",
       "      <td>4900</td>\n",
       "      <td>2023-05-01</td>\n",
       "      <td>411.80</td>\n",
       "      <td>257.2</td>\n",
       "      <td>914.1960</td>\n",
       "      <td>771.6</td>\n",
       "    </tr>\n",
       "    <tr>\n",
       "      <th>14</th>\n",
       "      <td>281</td>\n",
       "      <td>74.645217</td>\n",
       "      <td>2023-06-01</td>\n",
       "      <td>2063.343099</td>\n",
       "      <td>4900</td>\n",
       "      <td>2023-06-01</td>\n",
       "      <td>190.39</td>\n",
       "      <td>264.9</td>\n",
       "      <td>422.6658</td>\n",
       "      <td>794.7</td>\n",
       "    </tr>\n",
       "    <tr>\n",
       "      <th>15</th>\n",
       "      <td>282</td>\n",
       "      <td>140.243681</td>\n",
       "      <td>2023-07-01</td>\n",
       "      <td>3876.615839</td>\n",
       "      <td>4900</td>\n",
       "      <td>2023-07-01</td>\n",
       "      <td>193.30</td>\n",
       "      <td>242.5</td>\n",
       "      <td>429.1260</td>\n",
       "      <td>727.5</td>\n",
       "    </tr>\n",
       "    <tr>\n",
       "      <th>16</th>\n",
       "      <td>283</td>\n",
       "      <td>85.365581</td>\n",
       "      <td>2023-08-01</td>\n",
       "      <td>2359.675389</td>\n",
       "      <td>4900</td>\n",
       "      <td>2023-08-01</td>\n",
       "      <td>136.79</td>\n",
       "      <td>207.8</td>\n",
       "      <td>303.6738</td>\n",
       "      <td>623.4</td>\n",
       "    </tr>\n",
       "    <tr>\n",
       "      <th>17</th>\n",
       "      <td>284</td>\n",
       "      <td>80.540233</td>\n",
       "      <td>2023-09-01</td>\n",
       "      <td>2226.293120</td>\n",
       "      <td>4900</td>\n",
       "      <td>2023-09-01</td>\n",
       "      <td>173.67</td>\n",
       "      <td>262.8</td>\n",
       "      <td>385.5474</td>\n",
       "      <td>788.4</td>\n",
       "    </tr>\n",
       "    <tr>\n",
       "      <th>18</th>\n",
       "      <td>285</td>\n",
       "      <td>116.322778</td>\n",
       "      <td>2023-10-01</td>\n",
       "      <td>3215.394223</td>\n",
       "      <td>4900</td>\n",
       "      <td>2023-10-01</td>\n",
       "      <td>453.47</td>\n",
       "      <td>291.8</td>\n",
       "      <td>1006.7034</td>\n",
       "      <td>875.4</td>\n",
       "    </tr>\n",
       "    <tr>\n",
       "      <th>19</th>\n",
       "      <td>286</td>\n",
       "      <td>80.596929</td>\n",
       "      <td>2023-11-01</td>\n",
       "      <td>2227.860300</td>\n",
       "      <td>4900</td>\n",
       "      <td>2023-11-01</td>\n",
       "      <td>1018.72</td>\n",
       "      <td>355.1</td>\n",
       "      <td>2261.5584</td>\n",
       "      <td>1065.3</td>\n",
       "    </tr>\n",
       "    <tr>\n",
       "      <th>20</th>\n",
       "      <td>287</td>\n",
       "      <td>67.346500</td>\n",
       "      <td>2023-12-01</td>\n",
       "      <td>1861.591953</td>\n",
       "      <td>4900</td>\n",
       "      <td>2023-12-01</td>\n",
       "      <td>1137.74</td>\n",
       "      <td>375.6</td>\n",
       "      <td>2525.7828</td>\n",
       "      <td>1126.8</td>\n",
       "    </tr>\n",
       "    <tr>\n",
       "      <th>21</th>\n",
       "      <td>288</td>\n",
       "      <td>58.403250</td>\n",
       "      <td>2024-01-01</td>\n",
       "      <td>1614.382636</td>\n",
       "      <td>4000</td>\n",
       "      <td>2024-01-01</td>\n",
       "      <td>1173.96</td>\n",
       "      <td>466.8</td>\n",
       "      <td>2606.1912</td>\n",
       "      <td>1400.4</td>\n",
       "    </tr>\n",
       "    <tr>\n",
       "      <th>22</th>\n",
       "      <td>289</td>\n",
       "      <td>39.485278</td>\n",
       "      <td>2024-02-01</td>\n",
       "      <td>1091.452048</td>\n",
       "      <td>4000</td>\n",
       "      <td>2024-02-01</td>\n",
       "      <td>859.90</td>\n",
       "      <td>272.8</td>\n",
       "      <td>1908.9780</td>\n",
       "      <td>818.4</td>\n",
       "    </tr>\n",
       "    <tr>\n",
       "      <th>23</th>\n",
       "      <td>290</td>\n",
       "      <td>43.009722</td>\n",
       "      <td>2024-03-01</td>\n",
       "      <td>1188.874742</td>\n",
       "      <td>4000</td>\n",
       "      <td>2024-03-01</td>\n",
       "      <td>679.71</td>\n",
       "      <td>381.5</td>\n",
       "      <td>1508.9562</td>\n",
       "      <td>1144.5</td>\n",
       "    </tr>\n",
       "  </tbody>\n",
       "</table>\n",
       "</div>"
      ],
      "text/plain": [
       "    month      litres       date  Vehicle fuel  Flights      Month  Gas (kWh)  \\\n",
       "0     267   12.523529 2022-04-01    346.175400    14200 2022-04-01     412.96   \n",
       "1     268  120.356176 2022-05-01   3326.885430    14200 2022-05-01     322.92   \n",
       "2     269  112.266833 2022-06-01   3103.279807    14200 2022-06-01     260.65   \n",
       "3     270   55.441607 2022-07-01   1532.516905    14200 2022-07-01     199.40   \n",
       "4     271   62.518127 2022-08-01   1728.126066    14200 2022-08-01     232.90   \n",
       "5     272   82.221544 2022-09-01   2272.767915    14200 2022-09-01     297.76   \n",
       "6     273  118.159963 2022-10-01   3266.177710    14200 2022-10-01     283.22   \n",
       "7     274  103.006429 2022-11-01   2847.303699    14200 2022-11-01     934.71   \n",
       "8     275  106.349881 2022-12-01   2939.723409    14200 2022-12-01    1954.03   \n",
       "9     276   96.138312 2023-01-01   2657.455212     4900 2023-01-01    1716.18   \n",
       "10    277   77.498571 2023-02-01   2142.215511     4900 2023-02-01    1291.29   \n",
       "11    278  101.900810 2023-03-01   2816.742177     4900 2023-03-01    1345.67   \n",
       "12    279  100.114913 2023-04-01   2767.376422     4900 2023-04-01     881.80   \n",
       "13    280   87.134656 2023-05-01   2408.576156     4900 2023-05-01     411.80   \n",
       "14    281   74.645217 2023-06-01   2063.343099     4900 2023-06-01     190.39   \n",
       "15    282  140.243681 2023-07-01   3876.615839     4900 2023-07-01     193.30   \n",
       "16    283   85.365581 2023-08-01   2359.675389     4900 2023-08-01     136.79   \n",
       "17    284   80.540233 2023-09-01   2226.293120     4900 2023-09-01     173.67   \n",
       "18    285  116.322778 2023-10-01   3215.394223     4900 2023-10-01     453.47   \n",
       "19    286   80.596929 2023-11-01   2227.860300     4900 2023-11-01    1018.72   \n",
       "20    287   67.346500 2023-12-01   1861.591953     4900 2023-12-01    1137.74   \n",
       "21    288   58.403250 2024-01-01   1614.382636     4000 2024-01-01    1173.96   \n",
       "22    289   39.485278 2024-02-01   1091.452048     4000 2024-02-01     859.90   \n",
       "23    290   43.009722 2024-03-01   1188.874742     4000 2024-03-01     679.71   \n",
       "\n",
       "    Electricity (kWh)  Domestic natural gas (heating and hot water)  \\\n",
       "0               202.2                                      916.7712   \n",
       "1               326.4                                      716.8824   \n",
       "2               316.6                                      578.6430   \n",
       "3               290.8                                      442.6680   \n",
       "4               256.5                                      517.0380   \n",
       "5               303.3                                      661.0272   \n",
       "6               308.1                                      628.7484   \n",
       "7               305.1                                     2075.0562   \n",
       "8               322.0                                     4337.9466   \n",
       "9               326.3                                     3809.9196   \n",
       "10              313.3                                     2866.6638   \n",
       "11              313.6                                     2987.3874   \n",
       "12              284.8                                     1957.5960   \n",
       "13              257.2                                      914.1960   \n",
       "14              264.9                                      422.6658   \n",
       "15              242.5                                      429.1260   \n",
       "16              207.8                                      303.6738   \n",
       "17              262.8                                      385.5474   \n",
       "18              291.8                                     1006.7034   \n",
       "19              355.1                                     2261.5584   \n",
       "20              375.6                                     2525.7828   \n",
       "21              466.8                                     2606.1912   \n",
       "22              272.8                                     1908.9780   \n",
       "23              381.5                                     1508.9562   \n",
       "\n",
       "    Domestic electricity  \n",
       "0                  606.6  \n",
       "1                  979.2  \n",
       "2                  949.8  \n",
       "3                  872.4  \n",
       "4                  769.5  \n",
       "5                  909.9  \n",
       "6                  924.3  \n",
       "7                  915.3  \n",
       "8                  966.0  \n",
       "9                  978.9  \n",
       "10                 939.9  \n",
       "11                 940.8  \n",
       "12                 854.4  \n",
       "13                 771.6  \n",
       "14                 794.7  \n",
       "15                 727.5  \n",
       "16                 623.4  \n",
       "17                 788.4  \n",
       "18                 875.4  \n",
       "19                1065.3  \n",
       "20                1126.8  \n",
       "21                1400.4  \n",
       "22                 818.4  \n",
       "23                1144.5  "
      ]
     },
     "execution_count": 36,
     "metadata": {},
     "output_type": "execute_result"
    }
   ],
   "source": [
    "combined"
   ]
  },
  {
   "cell_type": "code",
   "execution_count": 37,
   "id": "58f0de09-50ed-4cc9-8ca2-47171bde2949",
   "metadata": {},
   "outputs": [],
   "source": [
    "population = 67.7e6\n",
    "food = 5.17 * 365 * population / num_households\n",
    "combined['Food'] = food\n",
    "\n",
    "combined['Other Scope 3'] = (2956.8345323603266 # Residual energy\n",
    "+ 61.9e9 / num_households # Business\n",
    "+ 2240.0261608894702 # Residual transport\n",
    "+ 7.6e9 / num_households # Public\n",
    "+ 0 # Residential\n",
    "+ 10.9e9 / num_households # Other\n",
    "-food)"
   ]
  },
  {
   "cell_type": "code",
   "execution_count": 38,
   "id": "f5c414d8",
   "metadata": {},
   "outputs": [
    {
     "data": {
      "image/png": "[encoded data removed]",
      "text/plain": [
       "<Figure size 1500x1000 with 1 Axes>"
      ]
     },
     "metadata": {},
     "output_type": "display_data"
    }
   ],
   "source": [
    "df = combined[combined['date'] > datetime.datetime(2022,6,1)]\n",
    "ax = df.plot.bar(figsize=(15,10), x='date', y=['Vehicle fuel', 'Domestic natural gas (heating and hot water)', 'Domestic electricity', 'Flights', 'Food', 'Other Scope 3'], stacked=True)\n",
    "x_labels = df['date'].apply(lambda x: x.strftime('%b %Y'))\n",
    "ax.set_xticklabels(x_labels)\n",
    "ax.set_xlabel(None)\n",
    "ax.set_ylabel('CO2 emissions (kg/yr equivalent)')\n",
    "#ax.axhline(24100, c='r', ls=':')\n",
    "ax.set_title('Total Household Emissions')\n",
    "plt.savefig('/tmp/total_emissions.png', transparent=False, facecolor='white')"
   ]
  },
  {
   "cell_type": "code",
   "execution_count": 39,
   "id": "1119a3d4",
   "metadata": {},
   "outputs": [
    {
     "data": {
      "text/plain": [
       "2338.307834756011"
      ]
     },
     "execution_count": 39,
     "metadata": {},
     "output_type": "execute_result"
    }
   ],
   "source": [
    "df['Vehicle fuel'].mean()"
   ]
  },
  {
   "cell_type": "code",
   "execution_count": 40,
   "id": "185155e2",
   "metadata": {},
   "outputs": [
    {
     "data": {
      "text/plain": [
       "303.67379999999997"
      ]
     },
     "execution_count": 40,
     "metadata": {},
     "output_type": "execute_result"
    }
   ],
   "source": [
    "df['Domestic natural gas (heating and hot water)'].min()"
   ]
  },
  {
   "cell_type": "code",
   "execution_count": 41,
   "id": "10761242",
   "metadata": {},
   "outputs": [
    {
     "data": {
      "text/plain": [
       "4337.946599999999"
      ]
     },
     "execution_count": 41,
     "metadata": {},
     "output_type": "execute_result"
    }
   ],
   "source": [
    "df['Domestic natural gas (heating and hot water)'].max()"
   ]
  },
  {
   "cell_type": "markdown",
   "id": "c9ac7ad0",
   "metadata": {},
   "source": [
    "## Analysis of other sectors\n",
    "\n",
    "Data from https://assets.publishing.service.gov.uk/government/uploads/system/uploads/attachment_data/file/1147372/2022_Provisional_emissions_statistics_report.pdf"
   ]
  },
  {
   "cell_type": "code",
   "execution_count": null,
   "id": "e86a69ab",
   "metadata": {},
   "outputs": [],
   "source": []
  }
 ],
 "metadata": {
  "kernelspec": {
   "display_name": "Python 3 (ipykernel)",
   "language": "python",
   "name": "python3"
  },
  "language_info": {
   "codemirror_mode": {
    "name": "ipython",
    "version": 3
   },
   "file_extension": ".py",
   "mimetype": "text/x-python",
   "name": "python",
   "nbconvert_exporter": "python",
   "pygments_lexer": "ipython3",
   "version": "3.11.6"
  }
 },
 "nbformat": 4,
 "nbformat_minor": 5
}
